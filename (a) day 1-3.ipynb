{
 "cells": [
  {
   "cell_type": "markdown",
   "metadata": {},
   "source": [
    "# Day One: Python variables & print functions"
   ]
  },
  {
   "cell_type": "markdown",
   "metadata": {},
   "source": [
    "### Tutorial:\n",
    "Variables in Python\n",
    "\n",
    "In Python, variables are structures that store values within them. A variable can be in the form of a string, an integer, or even a list.\n",
    "\n",
    "var_a = 'This is a string.'\n",
    "\n",
    "var_b = 21\n",
    "\n",
    "var_c = ['This','is','a','list','on', 'the',21,'day data challenge.']\n",
    "Note: In the example above, var_c is a list. A list is a type of data structure that can be sequenced. Lists can contain many items that can be indexed by integers, and each item are seperated by the ','.\n",
    "\n",
    "Strings in Python\n",
    "\n",
    "Strings are how text is represented in a computer program, and are considered a unique type of data. You can think of them as a sequence of characters.\n",
    "\n",
    "To learn about strings in Python, read this article before completing the challenge.\n",
    "\n",
    "String Formating\n",
    "\n",
    "Below is an example of the f'string format, which allows us to input certain pre-defined variables in a string.\n",
    "\n",
    "x = 'string'\n",
    "y = 2021\n",
    "\n",
    "string_formating = f'This is a {x} format and the year is {y}.' #prints out 'This is a string format and the year is 2021.\""
   ]
  },
  {
   "cell_type": "markdown",
   "metadata": {},
   "source": [
    "## Challenge: Modify the lease agreement with your signature without changing the original lease variable.\n"
   ]
  },
  {
   "cell_type": "code",
   "execution_count": 1,
   "metadata": {},
   "outputs": [],
   "source": [
    "lease = '''Dear Dot, \n",
    "           This document validates that you are beholden to a monthly payment of rent for this house.\n",
    "           Rent is to be paid by the first of every month.\n",
    "           Fill in your signature to agree to these terms.  \n",
    "            -------------\n",
    "            Please Sign Here: \n",
    "'''"
   ]
  },
  {
   "cell_type": "code",
   "execution_count": 2,
   "metadata": {},
   "outputs": [],
   "source": [
    "signature = 'Fahim'"
   ]
  },
  {
   "cell_type": "code",
   "execution_count": 9,
   "metadata": {},
   "outputs": [],
   "source": [
    "# option check\n",
    "new_lease = f'''\n",
    "\n",
    "Dear Dot, \n",
    "\n",
    "This document validates that you are beholden to a monthly payment of rent for this house.\n",
    "\n",
    "Rent is to be paid by the first of every month.\n",
    "\n",
    "Fill in your signature to agree to these terms.\n",
    "\n",
    "-------------\n",
    "\n",
    "Please Sign Here: {signature} \n",
    "\n",
    "'''"
   ]
  },
  {
   "cell_type": "code",
   "execution_count": 10,
   "metadata": {},
   "outputs": [
    {
     "name": "stdout",
     "output_type": "stream",
     "text": [
      "\n",
      "\n",
      "Dear Dot, \n",
      "\n",
      "This document validates that you are beholden to a monthly payment of rent for this house.\n",
      "\n",
      "Rent is to be paid by the first of every month.\n",
      "\n",
      "Fill in your signature to agree to these terms.\n",
      "\n",
      "-------------\n",
      "\n",
      "Please Sign Here: Fahim \n",
      "\n",
      "\n"
     ]
    }
   ],
   "source": [
    "print(new_lease) # right one"
   ]
  },
  {
   "cell_type": "code",
   "execution_count": 11,
   "metadata": {},
   "outputs": [],
   "source": [
    "new_lease = f'{lease} {signature}'"
   ]
  },
  {
   "cell_type": "code",
   "execution_count": 12,
   "metadata": {},
   "outputs": [
    {
     "name": "stdout",
     "output_type": "stream",
     "text": [
      "Dear Dot, \n",
      "           This document validates that you are beholden to a monthly payment of rent for this house.\n",
      "           Rent is to be paid by the first of every month.\n",
      "           Fill in your signature to agree to these terms.  \n",
      "            -------------\n",
      "            Please Sign Here: \n",
      " Fahim\n"
     ]
    }
   ],
   "source": [
    "print(new_lease)"
   ]
  },
  {
   "cell_type": "code",
   "execution_count": 13,
   "metadata": {},
   "outputs": [],
   "source": [
    "new_lease = signature + lease"
   ]
  },
  {
   "cell_type": "code",
   "execution_count": 14,
   "metadata": {},
   "outputs": [
    {
     "name": "stdout",
     "output_type": "stream",
     "text": [
      "FahimDear Dot, \n",
      "           This document validates that you are beholden to a monthly payment of rent for this house.\n",
      "           Rent is to be paid by the first of every month.\n",
      "           Fill in your signature to agree to these terms.  \n",
      "            -------------\n",
      "            Please Sign Here: \n",
      "\n"
     ]
    }
   ],
   "source": [
    "print(new_lease)"
   ]
  },
  {
   "cell_type": "markdown",
   "metadata": {},
   "source": [
    "# Day Two: math with Python\n",
    "Tutorial:\n",
    "Numbers\n",
    "\n",
    "There are two main numeric data types in Python, integers and float.\n",
    "\n",
    "The integer data types refer to whole numbers, while float data types refer to any numeric value that isn't a whole, like a fraction or a decimal.\n",
    "\n",
    "In Python as well as any other programming language, there are a variety of math operations you can use to do basic arithmetic.\n",
    "\n",
    "To learn more about numbers in Python, take a look at these articles here and here.\n",
    "\n",
    "In Python, lists are a type of variable that can be sequenced. Lists can contain many items that can be indexed by integers, with items being kept separate by the ','.\n",
    "\n",
    "list = [] #lists are called using the square brackets\n",
    "\n",
    "list_of_int = [1,2,3,4,5] #list of integers\n",
    "list_of_string = ['string1','string2', 'string3'] #list of strings\n",
    "list_of_anything = [1, 'string', 3.2] #list with an integer, string, and float.\n",
    "\n",
    "###  Challenge\n",
    "Dot has a few lists you can use as reference: their grocery list, the prices they used to pay in the city, and the prices for the rural grocer. What is the price difference between groceries in the city vs. groceries in the country, as a percentage of country prices?\n",
    "\n",
    "Note: The index position for each item is consistent across all three lists."
   ]
  },
  {
   "cell_type": "code",
   "execution_count": 15,
   "metadata": {},
   "outputs": [],
   "source": [
    "# Grocery List (19 items)\n",
    "grocery_list = ['Bananas', 'Clementines', 'Baguette', 'Oat Milk', 'Olive Oil', 'Coffee Beans',\n",
    "                'Chocolate Bar', 'Brocolli', 'Eggplant', 'Chickpeas', 'Lentils', 'Tomatoes',\n",
    "                'Pasta', 'Rice', 'Yogurt', 'Blueberries', 'Onions', 'Garlic', 'Truffles']\n",
    "\n",
    "# City Price\n",
    "city_price = [6.49, 4.99, 4.39, 4.29, 11.99, 17.99,          \n",
    "              3.49, 3.99, 1.10, 1.99, 2.99, 4.68,            \n",
    "              1.59, 8.99, 3.49, 6.99, 2.99, 1.98, 14.99]\n",
    "\n",
    "# Country Price\n",
    "country_price = [4.49, 4.12, 3.42, 6.99, 7.99, 14.99,              \n",
    "                2.99, 2.49, 0.99, 1.49, 2.49, 1.99,              \n",
    "                1.59, 6.99, 3.89, 4.99, 1.69, 1.87, 11.49]"
   ]
  },
  {
   "cell_type": "code",
   "execution_count": 16,
   "metadata": {},
   "outputs": [
    {
     "name": "stdout",
     "output_type": "stream",
     "text": [
      "109.39999999999999\n"
     ]
    }
   ],
   "source": [
    "print(sum(city_price))"
   ]
  },
  {
   "cell_type": "code",
   "execution_count": 17,
   "metadata": {},
   "outputs": [
    {
     "name": "stdout",
     "output_type": "stream",
     "text": [
      "86.95\n"
     ]
    }
   ],
   "source": [
    "print(sum(country_price))"
   ]
  },
  {
   "cell_type": "markdown",
   "metadata": {},
   "source": [
    "C = $\\frac{City price - country price}{country price}$"
   ]
  },
  {
   "cell_type": "code",
   "execution_count": 18,
   "metadata": {},
   "outputs": [
    {
     "name": "stdout",
     "output_type": "stream",
     "text": [
      "0.2581943645773432\n"
     ]
    }
   ],
   "source": [
    "print((sum(city_price)-sum(country_price))/sum(country_price))"
   ]
  },
  {
   "cell_type": "code",
   "execution_count": 19,
   "metadata": {},
   "outputs": [
    {
     "data": {
      "text/plain": [
       "0.2582"
      ]
     },
     "execution_count": 19,
     "metadata": {},
     "output_type": "execute_result"
    }
   ],
   "source": [
    "round(0.2581943645773432,4)"
   ]
  },
  {
   "cell_type": "markdown",
   "metadata": {},
   "source": [
    "# Day Three: lists, dictionaries, and indexing\n",
    "\n",
    "Brief Tutorial\n",
    "Indexing or Slicing Lists\n",
    "\n",
    "In the previous challenge we introduced you to lists. Lists are Python data structures that can hold many types of data in a sequence. The act of calling specific data in a list based on their position within the list is referred to as indexing or slicing.\n",
    "\n",
    "list_of_int = [1,2,3,4,5] # list of integers\n",
    "list_of_string = ['string1','string2', 'string3'] # list of strings\n",
    "list_of_anything = [1, 'string', 3.2] # list with an integer, string, and float.\n",
    "\n",
    "list_of_string[0] # will print out 'string1'\n",
    "\n",
    "list_of_int[0:2] # will print out [1,2,3]\n",
    "To read more on list indexing and slicing, read this article\n",
    "\n",
    "Note: Python is a zero-based indexing language, meaning that first element of a sequence will be at index = 0.\n",
    "\n",
    "Appending and Replacing Values in Lists\n",
    "\n",
    "Python lists are mutable structures, meaning a list's size or values can be changed. Below are some of the common methods of changing values in a list.\n",
    "\n",
    "\n",
    "list_of_int = [1 , 2 , 3 , 4 ,5] # list of integers\n",
    "\n",
    "list_of_int.append('value') # Running this line of code will update list_of_int = [1,2,3,4,5, 'value']\n",
    "\n",
    "list_of_int.insert(3 , 3.5) # Insert 3.5 in index 3, resulting in list_of_int = [1,2,3,3.5,4,5]\n",
    "\n",
    "list_of_int.pop(0) # Removes the value in position 0, list_of_int = [2,3,4,5]\n",
    "Python Dictionary\n",
    "\n",
    "In addition to lists, Python has another data structure called dictionary, which is similar to that of a list. However, the difference is lists are ordered sets of objects, but dictionaries are unordered sets of objects, and the items in dictionaries are accessed by keys. Each key may contain a list that can be accessed and normally indexed like a list. See the example below. \n",
    "\n",
    "dictionary = {\n",
    "    \"key\": [\"value_1\",\"value_2\"]\n",
    "    \"key_2\":[1,2]\n",
    "    \"key_3\":[1,2,'value_3']\n",
    "}\n",
    "Challenge\n",
    "Dot has some specific rules for what they want to change in the shopping list:\n",
    "\n",
    "They hate oak wood, and prefer maple.\n",
    "They want to paint all the rooms blue except the kitchen, which they want to paint white.\n",
    "old_blueprint = {\n",
    "    \"Kitchen\": ['Dirty', 'Oak', \"Damaged\", \"Green\"],\n",
    "    \"Dining Room\": ['Dirty', 'Pine', 'Good Condition', 'Grey'],\n",
    "    \"Living Room\": ['Dirty', 'Oak', 'Damaged', 'Red'],\n",
    "    \"Bedroom\" : [\"Clean\", 'Mahogany', 'Good Condition', 'Green'],\n",
    "    \"Bathroom\": [\"Dirty\", 'White Tile', 'Good Condition','White'],\n",
    "    \"Shed\"    : ['Dirty', \"Cherry\", \"Damaged\", \"Un-painted\"]\n",
    "}\n",
    "\n",
    "shopping_list = ['20 x Oak Plank', '20 x Oak Plank', '20 x Cherry Plank', 'White Paint', 'White Paint', 'White Paint']\n",
    "Note: The blueprint above is in a dictionary format and we won't be needing to work with dictionaries in the challenge, use the blueprint as reference only.\n",
    "\n",
    "### Use python's pop(), insert(), and append() list functions to change the shopping_list above so that it reflects the right materials needed.\n",
    "\n",
    "The list should be ordered by wood types first, then paint types.\n",
    "\n",
    "example_shopping_list = ['wood type in room A', 'wood type in room b','paint type in room a','paint type in room b']\n",
    "Create a paint_list list from the new_shopping_list list using the built in python list indexing ability."
   ]
  },
  {
   "cell_type": "code",
   "execution_count": 20,
   "metadata": {},
   "outputs": [],
   "source": [
    "shopping_list = ['20 x Oak plank', '20 x Oak Plank', '20 x Cherry Plank', 'White Paint', 'White Paint', 'White Paint']"
   ]
  },
  {
   "cell_type": "code",
   "execution_count": 21,
   "metadata": {},
   "outputs": [
    {
     "name": "stdout",
     "output_type": "stream",
     "text": [
      "['20 x Oak plank', '20 x Oak Plank', '20 x Cherry Plank', 'White Paint', 'White Paint', 'White Paint']\n"
     ]
    }
   ],
   "source": [
    "new_shopping_list = shopping_list\n",
    "print(new_shopping_list)"
   ]
  },
  {
   "cell_type": "code",
   "execution_count": 22,
   "metadata": {},
   "outputs": [
    {
     "name": "stdout",
     "output_type": "stream",
     "text": [
      "['20 x Oak plank', '20 x Oak Plank', '20 x Cherry Plank', 'White Paint', 'White Paint']\n"
     ]
    }
   ],
   "source": [
    "new_shopping_list.pop(-1)\n",
    "print(new_shopping_list)"
   ]
  },
  {
   "cell_type": "code",
   "execution_count": 23,
   "metadata": {},
   "outputs": [
    {
     "name": "stdout",
     "output_type": "stream",
     "text": [
      "['20 x Oak plank', '20 x Oak Plank', '20 x Cherry Plank', 'White Paint']\n"
     ]
    }
   ],
   "source": [
    "new_shopping_list.pop(-1)\n",
    "print(new_shopping_list)"
   ]
  },
  {
   "cell_type": "code",
   "execution_count": 24,
   "metadata": {},
   "outputs": [
    {
     "name": "stdout",
     "output_type": "stream",
     "text": [
      "['20 x Oak plank', '20 x Oak Plank', '20 x Cherry Plank', 'White Paint', 'Blue Paint']\n"
     ]
    }
   ],
   "source": [
    "new_shopping_list.append('Blue Paint')\n",
    "print(new_shopping_list)"
   ]
  },
  {
   "cell_type": "code",
   "execution_count": 25,
   "metadata": {},
   "outputs": [
    {
     "name": "stdout",
     "output_type": "stream",
     "text": [
      "['20 x Oak plank', '20 x Oak Plank', '20 x Cherry Plank', 'White Paint', 'Blue Paint', 'Blue Paint']\n"
     ]
    }
   ],
   "source": [
    "new_shopping_list.append('Blue Paint')\n",
    "print(new_shopping_list)"
   ]
  },
  {
   "cell_type": "code",
   "execution_count": 26,
   "metadata": {},
   "outputs": [
    {
     "name": "stdout",
     "output_type": "stream",
     "text": [
      "['20 x Oak plank', '20 x Oak Plank', '20 x Cherry Plank', 'White Paint', 'Blue Paint', 'Blue Paint', 'Blue Paint']\n"
     ]
    }
   ],
   "source": [
    "new_shopping_list.append('Blue Paint')\n",
    "print(new_shopping_list)"
   ]
  },
  {
   "cell_type": "code",
   "execution_count": 27,
   "metadata": {},
   "outputs": [
    {
     "name": "stdout",
     "output_type": "stream",
     "text": [
      "['20 x Oak plank', '20 x Oak Plank', '20 x Cherry Plank', 'White Paint', 'Blue Paint', 'Blue Paint', 'Blue Paint', 'Blue Paint']\n"
     ]
    }
   ],
   "source": [
    "new_shopping_list.append('Blue Paint')\n",
    "print(new_shopping_list)"
   ]
  },
  {
   "cell_type": "code",
   "execution_count": 28,
   "metadata": {},
   "outputs": [
    {
     "name": "stdout",
     "output_type": "stream",
     "text": [
      "['20 x Oak plank', '20 x Oak Plank', '20 x Cherry Plank', 'White Paint', 'Blue Paint', 'Blue Paint', 'Blue Paint', 'Blue Paint', 'Blue Paint']\n"
     ]
    }
   ],
   "source": [
    "new_shopping_list.append('Blue Paint')\n",
    "print(new_shopping_list)"
   ]
  },
  {
   "cell_type": "code",
   "execution_count": 29,
   "metadata": {},
   "outputs": [
    {
     "name": "stdout",
     "output_type": "stream",
     "text": [
      "['20 x Maple Plank', '20 x Oak Plank', '20 x Cherry Plank', 'White Paint', 'Blue Paint', 'Blue Paint', 'Blue Paint', 'Blue Paint', 'Blue Paint']\n"
     ]
    }
   ],
   "source": [
    "new_shopping_list.pop(0)\n",
    "new_shopping_list.insert(0, \"20 x Maple Plank\")\n",
    "print(new_shopping_list)"
   ]
  },
  {
   "cell_type": "code",
   "execution_count": 30,
   "metadata": {},
   "outputs": [
    {
     "name": "stdout",
     "output_type": "stream",
     "text": [
      "['20 x Maple Plank', '20 x Maple Plank', '20 x Cherry Plank', 'White Paint', 'Blue Paint', 'Blue Paint', 'Blue Paint', 'Blue Paint', 'Blue Paint']\n"
     ]
    }
   ],
   "source": [
    "new_shopping_list.pop(1)\n",
    "new_shopping_list.insert(1, \"20 x Maple Plank\")\n",
    "print(new_shopping_list)"
   ]
  },
  {
   "cell_type": "code",
   "execution_count": 31,
   "metadata": {},
   "outputs": [],
   "source": [
    "new_shopping_list = ['20 x Maple Plank', '20 x Maple Plank', '20 x Cherry Plank', 'White Paint', \n",
    "                   'Blue Paint','Blue Paint','Blue Paint','Blue Paint', 'Blue Paint']"
   ]
  },
  {
   "cell_type": "code",
   "execution_count": 32,
   "metadata": {},
   "outputs": [
    {
     "name": "stdout",
     "output_type": "stream",
     "text": [
      "['White Paint', 'Blue Paint', 'Blue Paint', 'Blue Paint', 'Blue Paint', 'Blue Paint']\n"
     ]
    }
   ],
   "source": [
    "paint_list = new_shopping_list[3:]\n",
    "print(paint_list)"
   ]
  }
 ],
 "metadata": {
  "kernelspec": {
   "display_name": "Python 3",
   "language": "python",
   "name": "python3"
  },
  "language_info": {
   "codemirror_mode": {
    "name": "ipython",
    "version": 3
   },
   "file_extension": ".py",
   "mimetype": "text/x-python",
   "name": "python",
   "nbconvert_exporter": "python",
   "pygments_lexer": "ipython3",
   "version": "3.7.7"
  }
 },
 "nbformat": 4,
 "nbformat_minor": 4
}
