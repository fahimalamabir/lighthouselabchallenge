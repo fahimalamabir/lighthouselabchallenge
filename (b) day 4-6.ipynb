{
 "cells": [
  {
   "cell_type": "markdown",
   "metadata": {},
   "source": [
    "# Day Four: for loops\n",
    "Tutorial\n",
    "In this challenge, you'll need to use a for loop to reach the answer. In programming, a loop is a block of code that's executed repeatedly, either for a set number of times, or until a certain condition is met. A for loop is a loop that is executed for a set number of times, iterated over the number of items in a sequence. To learn more about for loops, read this article.\n",
    "\n",
    "lst = [1,2,3,4,5]\n",
    "\n",
    "\n",
    "for i in range(len(lst)): \n",
    "    '''insert code'''\n",
    "In the above code, the range() function creates a sequence of numbers, and the len() function outputs the length of a list.\n",
    "\n",
    "Challenge:\n",
    "Dot needs to purchase:\n",
    "\n",
    "- 600 planks of Oak Wood\n",
    "- 150 liters of Blue Paint\n",
    "- 15 liters of White Paint\n",
    "- 165 liters of Paint Finish\n",
    "\n",
    "\n",
    "- Item\tNeeded Amount to Buy\tWholesale Price\tRetail Price\n",
    "- Plank of Oak Wood\t600\t$ 7000\t$ 12.99\n",
    "- 1 Liter of Blue Paint\t150\t$ 1000\t$ 8.99\n",
    "- 1 Liter of White Paint\t15\t$ 1000\t$ 9.99\n",
    "- 1 Liter of Paint Finish\t165\t$ 800\t$ 3.99\n",
    "\n",
    "Use a loop to determine the price Dot would pay for purchasing supplies at the retail price. Based on that calculation, which itmes should Dot buy at retail vs. wholesale?\n",
    "\n",
    "Note: Assume the wholesale price covers all the supply Dot needs for each item, whereas the retail price is per single unit.\n"
   ]
  },
  {
   "cell_type": "code",
   "execution_count": 1,
   "metadata": {},
   "outputs": [],
   "source": [
    "item_list = ['Oak Wood', 'Blue Paint', 'White Paint', 'Paint Finish']\n",
    "\n",
    "amount_list = [600,150,15,165]\n",
    "\n",
    "wholesale_price_list = [7000, 1000, 1000, 800]\n",
    "\n",
    "retail_price = [12.99, 8.99, 9.99, 3.99]"
   ]
  },
  {
   "cell_type": "code",
   "execution_count": 2,
   "metadata": {},
   "outputs": [
    {
     "name": "stdout",
     "output_type": "stream",
     "text": [
      "Oak Wood\n",
      "Blue Paint\n",
      "White Paint\n",
      "Paint Finish\n"
     ]
    }
   ],
   "source": [
    "for i in range(len(item_list)):\n",
    "    print(item_list[i])"
   ]
  },
  {
   "cell_type": "code",
   "execution_count": 4,
   "metadata": {},
   "outputs": [
    {
     "name": "stdout",
     "output_type": "stream",
     "text": [
      "Oak Wood 7000 7794.0\n",
      "Blue Paint 1000 1348.5\n",
      "White Paint 1000 149.85\n",
      "Paint Finish 800 658.35\n"
     ]
    }
   ],
   "source": [
    "for i in range(len(item_list)):\n",
    "    print(item_list[i],wholesale_price_list[i], amount_list[i]*retail_price[i])"
   ]
  },
  {
   "cell_type": "markdown",
   "metadata": {},
   "source": [
    "More easy to do it like:"
   ]
  },
  {
   "cell_type": "code",
   "execution_count": 9,
   "metadata": {},
   "outputs": [],
   "source": [
    "full_price = []\n",
    "for i in range(len(item_list)):\n",
    "    \n",
    "    total_price = amount_list[i] * retail_price[i]\n",
    "    full_price.append(total_price)"
   ]
  },
  {
   "cell_type": "code",
   "execution_count": 10,
   "metadata": {},
   "outputs": [
    {
     "name": "stdout",
     "output_type": "stream",
     "text": [
      "[7794.0, 1348.5, 149.85, 658.35]\n"
     ]
    }
   ],
   "source": [
    "print(full_price)"
   ]
  },
  {
   "cell_type": "markdown",
   "metadata": {},
   "source": [
    "# Day 5: conditional logic and control flows\n",
    "Conditional logic is essential to control flow statements. In programming, control flows are expressed in if...else statments. To read more on if...else statements, read this article before proceeding.\n",
    "\n",
    "\n",
    "#If Statment\n",
    "if condition is True:\n",
    "    '''\n",
    "    execute body of code\n",
    "\n",
    "'''\n",
    "\n",
    "#If Else Statments\n",
    "if var > 10: #if var is greater than 10\n",
    "    '''\n",
    "    execute body of code\n",
    "    '''\n",
    "else: #if none of the above statement is true, execute code\n",
    "    '''\n",
    "    execute body of code\n",
    "    '''\n",
    "\n",
    "\n",
    "#Mutliple If...else statements\n",
    "if var > 10: #if var is greater than 10\n",
    "    '''\n",
    "    execute body of code\n",
    "    '''\n",
    "\n",
    "elif var > 5 and <= 10: #if var is greater than 5 but less than or equal to 10\n",
    "    '''\n",
    "    execute body of code\n",
    "    '''\n",
    "else: #if none of the above statement is true, execute code\n",
    "    '''\n",
    "    execute body of code\n",
    "    '''\n",
    "    \n",
    " Challenge\n",
    "Dot's okay with paying a bit of a surplus for convenience, but they don't want to go broke buying dustpans and glass cleaner. Help them figure out which items cost over 10% more at the nearby store, so they can avoid buying these items.\n",
    "\n",
    "Using Python, develop a list of items that are too expensive for Dot to purchase at the nearby store."
   ]
  },
  {
   "cell_type": "code",
   "execution_count": 11,
   "metadata": {},
   "outputs": [],
   "source": [
    "# Cleaning Supplies List (19 items)\n",
    "cleaningsupplies_list = ['Broom', 'Mop', 'Dustpan', 'Garbage Bags', 'Glass Cleaner', 'Vinegar',\n",
    "                        'Soap', 'Bleach', 'Duster', 'Floor Cleaner', 'Sponges', 'Dish Soap',\n",
    "                        'Drain Cleaner', 'Paper Towels', 'Cleaning Rags', 'Toilet Cleaner', \n",
    "                        'Rubber Gloves', 'Alcohol Wipes', 'Squeegee']\n",
    "\n",
    "# City Price\n",
    "city_price = [6.49, 4.99, 3.39, 4.29, 3.99, 1.99, \n",
    "              1.50, 3.99, 4.99, 5.99, 2.99, 2.99, \n",
    "              5.99, 2.99, 3.49, 6.99, 2.99, 1.98, 11.99]\n",
    "\n",
    "# Country Price\n",
    "country_price = [5.49, 4.69, 4.42, 5.99, 5.99, 2.50,\n",
    "                1.25, 2.49, 4.50, 6.75, 2.49, 1.99, \n",
    "                6.25, 3.99, 3.59, 4.99, 1.69, 1.87, 10.99]"
   ]
  },
  {
   "cell_type": "code",
   "execution_count": 13,
   "metadata": {},
   "outputs": [
    {
     "name": "stdout",
     "output_type": "stream",
     "text": [
      "Broom\n",
      "Mop\n",
      "Dustpan\n",
      "Garbage Bags\n",
      "Glass Cleaner\n",
      "Vinegar\n",
      "Soap\n",
      "Bleach\n",
      "Duster\n",
      "Floor Cleaner\n",
      "Sponges\n",
      "Dish Soap\n",
      "Drain Cleaner\n",
      "Paper Towels\n",
      "Cleaning Rags\n",
      "Toilet Cleaner\n",
      "Rubber Gloves\n",
      "Alcohol Wipes\n",
      "Squeegee\n"
     ]
    }
   ],
   "source": [
    "for i in range(len(cleaningsupplies_list)):\n",
    "    print(cleaningsupplies_list[i])"
   ]
  },
  {
   "cell_type": "code",
   "execution_count": 14,
   "metadata": {},
   "outputs": [
    {
     "name": "stdout",
     "output_type": "stream",
     "text": [
      "Broom 0.8459167950693375\n",
      "Mop 0.9398797595190381\n",
      "Dustpan 1.303834808259587\n",
      "Garbage Bags 1.3962703962703964\n",
      "Glass Cleaner 1.5012531328320802\n",
      "Vinegar 1.256281407035176\n",
      "Soap 0.8333333333333334\n",
      "Bleach 0.6240601503759399\n",
      "Duster 0.9018036072144289\n",
      "Floor Cleaner 1.1268781302170283\n",
      "Sponges 0.8327759197324415\n",
      "Dish Soap 0.6655518394648829\n",
      "Drain Cleaner 1.0434056761268782\n",
      "Paper Towels 1.334448160535117\n",
      "Cleaning Rags 1.0286532951289398\n",
      "Toilet Cleaner 0.7138769670958512\n",
      "Rubber Gloves 0.5652173913043478\n",
      "Alcohol Wipes 0.9444444444444445\n",
      "Squeegee 0.9165971643035863\n"
     ]
    }
   ],
   "source": [
    "for i in range(len(cleaningsupplies_list)):\n",
    "    print(cleaningsupplies_list[i], country_price[i]/city_price[i])"
   ]
  },
  {
   "cell_type": "code",
   "execution_count": 16,
   "metadata": {},
   "outputs": [
    {
     "name": "stdout",
     "output_type": "stream",
     "text": [
      "Dustpan 1.303834808259587\n",
      "Garbage Bags 1.3962703962703964\n",
      "Glass Cleaner 1.5012531328320802\n",
      "Vinegar 1.256281407035176\n",
      "Floor Cleaner 1.1268781302170283\n",
      "Paper Towels 1.334448160535117\n"
     ]
    }
   ],
   "source": [
    "for i in range(len(cleaningsupplies_list)):\n",
    "    if  country_price[i]/city_price[i] >= 1.1:\n",
    "        print(cleaningsupplies_list[i], country_price[i]/city_price[i])"
   ]
  },
  {
   "cell_type": "code",
   "execution_count": 17,
   "metadata": {},
   "outputs": [
    {
     "name": "stdout",
     "output_type": "stream",
     "text": [
      "['Dustpan', 'Garbage Bags', 'Glass Cleaner', 'Vinegar', 'Floor Cleaner', 'Paper Towels']\n"
     ]
    }
   ],
   "source": [
    "# better way\n",
    "expensive_items = []\n",
    "\n",
    "for i in range(len(cleaningsupplies_list)):\n",
    "    \n",
    "    if ((country_price[i] - city_price[i])/city_price[i]) > 0.1:\n",
    "        expensive_items.append(cleaningsupplies_list[i])\n",
    "        \n",
    "print(expensive_items)"
   ]
  },
  {
   "cell_type": "markdown",
   "metadata": {},
   "source": [
    "# Day Six: descriptive statistics\n",
    "Tutorial\n",
    "Part of the job of data scientists and data analysts is to understand the data and extrapolate certain findings. In most cases, the first step of understanding a numerical data set is to look at the descriptive statistics. Descriptive statistics are brief descriptions that summarize datasets. There are many great Python libraries we can use to get descriptive statistics from numerical datasets. One such library is Pandas. We won't be going too in-depth with pandas today, just the basics to understand how to use pandas to get some general descriptive statistics. We will be covering pandas extensively and going over some of the advanced functions starting on Day 8.\n",
    "\n",
    "Pandas is one of the most widely used Python plugins. Pandas can be used when working with large data sets or performing data cleaning, manipulation, and analysis.\n",
    "\n",
    "Since the Pandas library is external to base Python, we will need to import it. When importing, we give an alias to pandas to shorten our code when calling on functions from pandas. Instead of writing pandas.name_of_function() we'll be able to write pd.name_of_function(). The alias pd is standard within the Python community.\n",
    "\n",
    "import pandas as pd # we must import our external python plugin\n",
    "\n",
    "list_of_num = [1,2,3,4,5]\n",
    "\n",
    "series = pd.Series(list_of_num) #converting our list_of_num to a pandas series variable\n",
    "                                #we need to do this to use some of pandas' useful descriptive statistics functions\n",
    "\n",
    "series.max()    #outputs maximum value in Pandas Series\n",
    "series.min()    #outputs minimum value in Pandas Series\n",
    "series.mean()   #outputs average value in Pandas Series\n",
    "series.median() #outputs median value in Pandas Series\n",
    "series.mode()   #outputs mode value in Pandas Series\n",
    "\n",
    "\n",
    "### Challenge:\n",
    "There are many holes in the living room's ceiling that desperately need to be fixed. Dot's measured them, and in total there are about 100. They need to figure out how much does it cost to fix all of the holes. Differently sized holes will require differently sized patches to fix them.\n",
    "\n",
    "Size of Hole\tCost to Fix\n",
    "Small (less than 20 mm)\t1.30\n",
    "Medium (above or equal to 20 mm AND less than 70mm)\t1.60\n",
    "Large (above or equal to 70 mm)\t2.10\n",
    "Dot needs you to look at the measurements and figure out the answers to the following questions:\n",
    "\n",
    "What is the average sized hole?\n",
    "What is the average cost to fix a hole?\n",
    "What is the total cost of fixing all of the holes?\n",
    "\n",
    "Note: Use a for loop and an if else statement to answer Q3.\n",
    "Stretch Question:\n",
    "\n",
    "Stretch Questions are not required to be completed to finish the challenge but are recommended to further develop your skills.\n",
    "\n",
    "What is the maximum sized hole?\n",
    "What is the minimum sized hole?"
   ]
  },
  {
   "cell_type": "code",
   "execution_count": 18,
   "metadata": {},
   "outputs": [
    {
     "data": {
      "text/plain": [
       "[9, 3, 1, 21, 35]"
      ]
     },
     "execution_count": 18,
     "metadata": {},
     "output_type": "execute_result"
    }
   ],
   "source": [
    "import random \n",
    "random.seed(34)\n",
    "\n",
    "hole_sizes = [random.randint(1, i) for i in range(1, 101)]\n",
    "random.shuffle(hole_sizes)\n",
    "\n",
    "# hole sizes in mm\n",
    "hole_sizes[:5]"
   ]
  },
  {
   "cell_type": "code",
   "execution_count": 19,
   "metadata": {},
   "outputs": [
    {
     "name": "stdout",
     "output_type": "stream",
     "text": [
      "[9, 3, 1, 21, 35, 53, 23, 14, 61, 39, 9, 17, 16, 75, 48, 37, 18, 1, 53, 38, 30, 44, 12, 14, 46, 26, 3, 9, 96, 3, 43, 44, 60, 14, 4, 68, 54, 24, 25, 29, 39, 18, 1, 8, 57, 21, 5, 69, 67, 46, 27, 37, 47, 12, 59, 16, 10, 14, 36, 2, 9, 79, 52, 28, 35, 30, 29, 5, 11, 1, 52, 67, 2, 40, 26, 4, 19, 17, 7, 58, 23, 20, 38, 18, 1, 25, 39, 26, 27, 93, 8, 12, 2, 12, 53, 9, 1, 40, 6, 5]\n"
     ]
    }
   ],
   "source": [
    "print(hole_sizes)"
   ]
  },
  {
   "cell_type": "code",
   "execution_count": 22,
   "metadata": {},
   "outputs": [],
   "source": [
    "import pandas as pd\n",
    "series = pd.Series(hole_sizes)"
   ]
  },
  {
   "cell_type": "code",
   "execution_count": 24,
   "metadata": {},
   "outputs": [
    {
     "data": {
      "text/plain": [
       "28.39"
      ]
     },
     "execution_count": 24,
     "metadata": {},
     "output_type": "execute_result"
    }
   ],
   "source": [
    "series.mean()"
   ]
  },
  {
   "cell_type": "code",
   "execution_count": 27,
   "metadata": {},
   "outputs": [],
   "source": [
    "total = 0.0\n",
    "for i in range(len(hole_sizes)):\n",
    "    if hole_sizes[i] < 20:\n",
    "        total += 1.3\n",
    "    elif hole_sizes[i] < 70:\n",
    "        total += 1.6\n",
    "    else:\n",
    "        total += 2.1"
   ]
  },
  {
   "cell_type": "code",
   "execution_count": 28,
   "metadata": {},
   "outputs": [
    {
     "name": "stdout",
     "output_type": "stream",
     "text": [
      "148.79999999999987\n"
     ]
    }
   ],
   "source": [
    "print(total)"
   ]
  },
  {
   "cell_type": "code",
   "execution_count": 29,
   "metadata": {},
   "outputs": [
    {
     "data": {
      "text/plain": [
       "148.8"
      ]
     },
     "execution_count": 29,
     "metadata": {},
     "output_type": "execute_result"
    }
   ],
   "source": [
    "round(total,2)"
   ]
  },
  {
   "cell_type": "code",
   "execution_count": 30,
   "metadata": {},
   "outputs": [
    {
     "name": "stdout",
     "output_type": "stream",
     "text": [
      "The amount of small holes is 44.\n",
      "The amount of small holes is 52.\n",
      "The amount of small holes is 4.\n"
     ]
    }
   ],
   "source": [
    "# better way\n",
    "count_small = 0\n",
    "count_medium = 0\n",
    "count_large = 0 \n",
    "\n",
    "for i in hole_sizes:\n",
    "    if i < 20:\n",
    "        count_small += 1\n",
    "    elif i >= 20 and i < 70:\n",
    "        count_medium += 1       \n",
    "    else:\n",
    "        count_large += 1\n",
    "        \n",
    "print(f'The amount of small holes is {count_small}.')\n",
    "print(f'The amount of small holes is {count_medium}.')\n",
    "print(f'The amount of small holes is {count_large}.')"
   ]
  },
  {
   "cell_type": "code",
   "execution_count": 31,
   "metadata": {},
   "outputs": [
    {
     "name": "stdout",
     "output_type": "stream",
     "text": [
      "1.488\n"
     ]
    }
   ],
   "source": [
    "# better way\n",
    "average_cost = ((count_small*1.3)+(count_medium*1.6)+(count_large*2.1))/ 100\n",
    "print(round(average_cost,4))"
   ]
  },
  {
   "cell_type": "code",
   "execution_count": 32,
   "metadata": {},
   "outputs": [
    {
     "name": "stdout",
     "output_type": "stream",
     "text": [
      "148.8\n"
     ]
    }
   ],
   "source": [
    "# better way\n",
    "total_cost = 0\n",
    "\n",
    "for i in hole_sizes:\n",
    "    if i < 20:\n",
    "        total_cost += 1.3\n",
    "    elif i >= 20 and i < 70:\n",
    "        total_cost += 1.6       \n",
    "    else:\n",
    "        total_cost += 2.1\n",
    "        \n",
    "print(round(total_cost,4))"
   ]
  }
 ],
 "metadata": {
  "kernelspec": {
   "display_name": "Python 3",
   "language": "python",
   "name": "python3"
  },
  "language_info": {
   "codemirror_mode": {
    "name": "ipython",
    "version": 3
   },
   "file_extension": ".py",
   "mimetype": "text/x-python",
   "name": "python",
   "nbconvert_exporter": "python",
   "pygments_lexer": "ipython3",
   "version": "3.7.7"
  }
 },
 "nbformat": 4,
 "nbformat_minor": 4
}
