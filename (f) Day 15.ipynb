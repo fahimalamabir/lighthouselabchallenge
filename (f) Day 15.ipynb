{
 "cells": [
  {
   "cell_type": "markdown",
   "metadata": {},
   "source": [
    "### **Day 15: *Data Visualization***\n",
    "\n",
    "A few days have passed when Dot decides to check on their avocado tree to gauge its progress. Are they well on their way to transforming from Dot to Dot, Avocado Farmer Ltd?\n",
    "\n",
    "It turns out the reality is a bit more complicated than that. Dot looks around, not understanding what they’re seeing, until the situation sets in. The only thing left of their poor avocado tree is a tiny, pathetic little twig sticking out of the earth. Something has destroyed the budding tree!\n",
    "\n",
    "Dot squints around the vicinity of the cabin. In the distance, they can see Bessie and the rest of the cows, staring back at Dot. They look like they’re laughing!\n",
    "\n",
    "There’s nothing to do but go back inside and slam the door. Dot searches around the kitchen, looking for something else to occupy themselves. There are a bunch of seed packets under the sink, perhaps left by previous tenants. Carrots, tomatoes, potatoes, eggplant, and cucumber. Which should Dot grow? What would produce the best harvest?\n",
    "\n",
    "\n",
    "\n",
    "### Tutorial\n",
    "\n",
    "**Data visualization** refers to the graphical representation of information and data. By using visual elements such as charts and graphs, data visualization tools provide us with an accessible way to understand trends, outliers, and relationships in our data. It enables us to communicate data insights to others and understand the data better ourselves.  Understanding how to use a data visualization tool is essential for anyone who uses data in their work.\n",
    "\n",
    "One of the most popular visualization plugins for Python is **Matplotlib**, a plotting library. Matplotlib is popular for how easy it makes building statistical plots, as well as for the excellent community support and the wide availability of tutorials online.\n",
    "\n",
    "Read this [article](https://www.gooddata.com/blog/5-data-visualization-best-practices-0) to increase your understanding of best practices in data visualization.\n",
    "\n",
    "**Importing Matplotlib**\n",
    "\n",
    "Just like with pandas, before we can use Matplotlib we have to import it. It's typical within data science to give Matplotlib the alias *plt* when importing it.\n",
    "\n",
    "As a reminder, the code would look like this:\n",
    "```python\n",
    "import matplotlib.pyplot as plt\n",
    "```\n",
    "\n",
    "**Basic Plot-Building in Matplotlibs**\n",
    "\n",
    "The process for building a plot in Matplotlib can be divided into three parts: the frame, the plot, and the stylistic features.\n",
    "\n",
    "```python\n",
    "plt.figure() #The Frame: We start our plot with a figure\n",
    "plt.bar(x = data, height = data) #The Body: Declaring the specific bar plot statment\n",
    "plt.title(\"Example Bar Plot\") #Stylistic Features: Adding the title\n",
    "plt.show() #To show our plot, we need to end our plot with a plt.show()\n",
    "```\n",
    "\n",
    "**Example**\n",
    "\n",
    "Below is an example code to produce a simple bar chart. Try it out yourself!\n",
    "\n",
    "```python\n",
    "data = {'item_1':40, 'item_2':50, 'item_3':25} \n",
    "items = list(data.keys())\n",
    "quantity = list(data.values())\n",
    "\n",
    "\n",
    "plt.figure()\n",
    "plt.bar(x = items, height = quantity)\n",
    "plt.show()\n",
    "```\n",
    "\n",
    "*output*\n",
    "\n",
    "![bar](images/bar.png)\n",
    "\n",
    "**Pandas and Matplotlib**\n",
    "\n",
    "Pandas and Matplotlib can be integrated very easily, such as we can feed specific pandas columns to Matplotlib as our data input. \n",
    "\n",
    "To read more on the documentation for the bar chart in Matplotlib, click [here](https://matplotlib.org/api/_as_gen/matplotlib.pyplot.bar.html). For the matplotlib user guide, click [here](https://matplotlib.org/index.html).\n",
    "\n",
    "-------\n",
    "**Why should I use the documentation?**\n",
    "\n",
    "On the job as a data scientist or data analyst, more often than not, you may find yourself looking up the documentation of a particular function or plugin you use. Don't worry if there are a few functions you don't know by heart. However, there are just too many to know! An essential skill is to learn how to navigate documentation and understand how to apply the examples to your work. \n",
    "\n",
    "--------\n",
    "### Challenge\n",
    "\n",
    "Dot already has a few seeds they can use for their garden. They need to figure out which of the seeds will produce the biggest potential harvest. Can you help Dot decide which seeds are best, by using data visualization?\n",
    "\n",
    "**Create a bar graph with Matplotlib that shows each vegetable and the size of the potential harvest that Dot can expect from them.**\n",
    "\n",
    "1. Which of Dot's seeds will produce the largest harvest?"
   ]
  },
  {
   "cell_type": "code",
   "execution_count": 1,
   "metadata": {},
   "outputs": [],
   "source": [
    "import pandas as pd\n",
    "import matplotlib.pyplot as plt"
   ]
  },
  {
   "cell_type": "code",
   "execution_count": 2,
   "metadata": {},
   "outputs": [
    {
     "data": {
      "text/html": [
       "<div>\n",
       "<style scoped>\n",
       "    .dataframe tbody tr th:only-of-type {\n",
       "        vertical-align: middle;\n",
       "    }\n",
       "\n",
       "    .dataframe tbody tr th {\n",
       "        vertical-align: top;\n",
       "    }\n",
       "\n",
       "    .dataframe thead th {\n",
       "        text-align: right;\n",
       "    }\n",
       "</style>\n",
       "<table border=\"1\" class=\"dataframe\">\n",
       "  <thead>\n",
       "    <tr style=\"text-align: right;\">\n",
       "      <th></th>\n",
       "      <th>Vegetable</th>\n",
       "      <th>Seeds_Count</th>\n",
       "      <th>Each_Seed_Produces</th>\n",
       "    </tr>\n",
       "  </thead>\n",
       "  <tbody>\n",
       "    <tr>\n",
       "      <th>0</th>\n",
       "      <td>Carrots</td>\n",
       "      <td>300</td>\n",
       "      <td>1</td>\n",
       "    </tr>\n",
       "    <tr>\n",
       "      <th>1</th>\n",
       "      <td>Tomatoes</td>\n",
       "      <td>10</td>\n",
       "      <td>140</td>\n",
       "    </tr>\n",
       "    <tr>\n",
       "      <th>2</th>\n",
       "      <td>Potatoes</td>\n",
       "      <td>90</td>\n",
       "      <td>10</td>\n",
       "    </tr>\n",
       "    <tr>\n",
       "      <th>3</th>\n",
       "      <td>Eggplant</td>\n",
       "      <td>100</td>\n",
       "      <td>5</td>\n",
       "    </tr>\n",
       "    <tr>\n",
       "      <th>4</th>\n",
       "      <td>Cucumbers</td>\n",
       "      <td>15</td>\n",
       "      <td>90</td>\n",
       "    </tr>\n",
       "  </tbody>\n",
       "</table>\n",
       "</div>"
      ],
      "text/plain": [
       "   Vegetable  Seeds_Count  Each_Seed_Produces\n",
       "0    Carrots          300                   1\n",
       "1   Tomatoes           10                 140\n",
       "2   Potatoes           90                  10\n",
       "3   Eggplant          100                   5\n",
       "4  Cucumbers           15                  90"
      ]
     },
     "execution_count": 2,
     "metadata": {},
     "output_type": "execute_result"
    }
   ],
   "source": [
    "seeds = {\n",
    "    'Vegetable' : ['Carrots', 'Tomatoes', 'Potatoes', 'Eggplant', 'Cucumbers'],\n",
    "    'Seeds_Count' : [300,10,90,100,15],\n",
    "    'Each_Seed_Produces': [1,140,10,5, 90]\n",
    "}\n",
    "\n",
    "df = pd.DataFrame(seeds)\n",
    "df"
   ]
  },
  {
   "cell_type": "code",
   "execution_count": 3,
   "metadata": {},
   "outputs": [
    {
     "data": {
      "image/png": "[encoded data removed]",
      "text/plain": [
       "<Figure size 432x288 with 1 Axes>"
      ]
     },
     "metadata": {
      "needs_background": "light"
     },
     "output_type": "display_data"
    }
   ],
   "source": [
    "plt.figure()\n",
    "plt.bar(x =  df['Vegetable'], height = df['Each_Seed_Produces'] )\n",
    "plt.show()"
   ]
  },
  {
   "cell_type": "code",
   "execution_count": null,
   "metadata": {},
   "outputs": [],
   "source": []
  }
 ],
 "metadata": {
  "kernelspec": {
   "display_name": "Python 3",
   "language": "python",
   "name": "python3"
  },
  "language_info": {
   "codemirror_mode": {
    "name": "ipython",
    "version": 3
   },
   "file_extension": ".py",
   "mimetype": "text/x-python",
   "name": "python",
   "nbconvert_exporter": "python",
   "pygments_lexer": "ipython3",
   "version": "3.7.7"
  }
 },
 "nbformat": 4,
 "nbformat_minor": 4
}
