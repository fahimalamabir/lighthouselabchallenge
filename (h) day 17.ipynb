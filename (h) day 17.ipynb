{
 "cells": [
  {
   "cell_type": "markdown",
   "metadata": {},
   "source": [
    "### **Day 17: *Bar Plots and Specific Data***\n",
    "\n",
    "The weight of the decision is tearing Dot apart. They just don't know what they should read! Once they commit, it's really difficult for them to rescind their decision. They've wasted countless hours reading through absolutely horrible, terribly frustrating books, because once they've started they won't stop until they've read every page. It's practically compulsive for them.\n",
    "\n",
    "Dot's been looking through the box of books, fretting and biting their nails. Even with the data you fetched for them yesterday, they can't reach a decision. They stayed up almost all night thinking about it. When they finally fell asleep it was only into a restless sleep, tossing and turning between nightmares about giant, carnivorous novels.\n",
    "\n",
    "This situation can't go on - you need to get more data for Dot about what book they should choose, or they'll never reach a decision. They need your help now more than ever.\n",
    "\n",
    "### Tutorial\n",
    "\n",
    "In the previous two challenges, we learned how to create boxplots and bar plots. Generally speaking, these two methods are very effective ways data analysts and data scientists can convey data to an audience.\n",
    "\n",
    "It's relatively easy to create a bar plot using a few categories from a simple dataset, or to call a boxplot on a numerical range. But what if we wanted to get very specific, and create visualizations that present a subset of a larger dataset?\n",
    "\n",
    "It's common for data analysts to strive to answer questions that look to generate specific insights from a large dataset. Knowing how to ask the right questions will help guide analysis, and generate significant insights about a dataset.\n",
    "\n",
    "Last week, we explored a variety of pandas functions that manipulate and filter specific data. We can answer questions like the ones below using pandas alone if we wanted to. However, the pandas output isn't always the most effective way to communicate answers. Sometimes, we may want to use a plot. The plots we've created in the last two days have all been derived from pandas DataFrames. Today we can combine our knowledge by manipulating our data and inputting it into a plot with Matplotlib.\n",
    "\n",
    "For the matplotlib user guide, click [here](https://matplotlib.org/index.html).\n",
    "\n",
    "-------\n",
    "**Why should I use the documentation?**\n",
    "\n",
    "On the job as a data scientist or data analyst, more often than not, you may find yourself looking up the documentation of a particular function or plugin you use. Don't worry if there are a few functions you don't know by heart. However, there are just too many to know! An essential skill is to learn how to navigate documentation and understand how to apply the examples to your work. \n",
    "\n",
    "--------\n",
    "\n",
    "### Challenge\n",
    "\n",
    "Help Dot by answering the following questions using a bar plot:\n",
    "\n",
    "1. What are the top 5 rated books in the dataset?\n",
    "\n",
    "2. What are the top 5 books with the highest average rating?\n",
    "\n",
    "    **Note:** Filter out books that have low ***ratings_count***, for question 2 filter out books with a ***ratings_count*** less than the mean.\n",
    "\n",
    "**Stretch**\n",
    "\n",
    "As an optional bonus question, try answering this as well:\n",
    "\n",
    "1. What are the top 5 authours with the most books in the dataset?\n"
   ]
  },
  {
   "cell_type": "code",
   "execution_count": 1,
   "metadata": {},
   "outputs": [
    {
     "data": {
      "text/html": [
       "<div>\n",
       "<style scoped>\n",
       "    .dataframe tbody tr th:only-of-type {\n",
       "        vertical-align: middle;\n",
       "    }\n",
       "\n",
       "    .dataframe tbody tr th {\n",
       "        vertical-align: top;\n",
       "    }\n",
       "\n",
       "    .dataframe thead th {\n",
       "        text-align: right;\n",
       "    }\n",
       "</style>\n",
       "<table border=\"1\" class=\"dataframe\">\n",
       "  <thead>\n",
       "    <tr style=\"text-align: right;\">\n",
       "      <th></th>\n",
       "      <th>bookID</th>\n",
       "      <th>title</th>\n",
       "      <th>authors</th>\n",
       "      <th>average_rating</th>\n",
       "      <th>isbn</th>\n",
       "      <th>isbn13</th>\n",
       "      <th>language_code</th>\n",
       "      <th>num_pages</th>\n",
       "      <th>ratings_count</th>\n",
       "      <th>text_reviews_count</th>\n",
       "      <th>publication_date</th>\n",
       "      <th>publisher</th>\n",
       "    </tr>\n",
       "  </thead>\n",
       "  <tbody>\n",
       "    <tr>\n",
       "      <th>0</th>\n",
       "      <td>1</td>\n",
       "      <td>Harry Potter and the Half-Blood Prince (Harry ...</td>\n",
       "      <td>J.K. Rowling/Mary GrandPré</td>\n",
       "      <td>4.57</td>\n",
       "      <td>0439785960</td>\n",
       "      <td>9780439785969</td>\n",
       "      <td>eng</td>\n",
       "      <td>652</td>\n",
       "      <td>2095690</td>\n",
       "      <td>27591</td>\n",
       "      <td>9/16/2006</td>\n",
       "      <td>Scholastic Inc.</td>\n",
       "    </tr>\n",
       "    <tr>\n",
       "      <th>1</th>\n",
       "      <td>2</td>\n",
       "      <td>Harry Potter and the Order of the Phoenix (Har...</td>\n",
       "      <td>J.K. Rowling/Mary GrandPré</td>\n",
       "      <td>4.49</td>\n",
       "      <td>0439358078</td>\n",
       "      <td>9780439358071</td>\n",
       "      <td>eng</td>\n",
       "      <td>870</td>\n",
       "      <td>2153167</td>\n",
       "      <td>29221</td>\n",
       "      <td>9/1/2004</td>\n",
       "      <td>Scholastic Inc.</td>\n",
       "    </tr>\n",
       "  </tbody>\n",
       "</table>\n",
       "</div>"
      ],
      "text/plain": [
       "   bookID                                              title  \\\n",
       "0       1  Harry Potter and the Half-Blood Prince (Harry ...   \n",
       "1       2  Harry Potter and the Order of the Phoenix (Har...   \n",
       "\n",
       "                      authors  average_rating        isbn         isbn13  \\\n",
       "0  J.K. Rowling/Mary GrandPré            4.57  0439785960  9780439785969   \n",
       "1  J.K. Rowling/Mary GrandPré            4.49  0439358078  9780439358071   \n",
       "\n",
       "  language_code  num_pages  ratings_count  text_reviews_count  \\\n",
       "0           eng        652        2095690               27591   \n",
       "1           eng        870        2153167               29221   \n",
       "\n",
       "  publication_date        publisher  \n",
       "0        9/16/2006  Scholastic Inc.  \n",
       "1         9/1/2004  Scholastic Inc.  "
      ]
     },
     "execution_count": 1,
     "metadata": {},
     "output_type": "execute_result"
    }
   ],
   "source": [
    "import pandas as pd\n",
    "import matplotlib.pyplot as plt\n",
    "df = pd.read_csv(\"booksq.csv\")\n",
    "df.head(2)"
   ]
  },
  {
   "cell_type": "code",
   "execution_count": 5,
   "metadata": {},
   "outputs": [
    {
     "data": {
      "image/png": "[encoded data removed]",
      "text/plain": [
       "<Figure size 432x288 with 1 Axes>"
      ]
     },
     "metadata": {
      "needs_background": "light"
     },
     "output_type": "display_data"
    }
   ],
   "source": [
    "rated_df  = df.sort_values(by = 'ratings_count', ascending = False).head()\n",
    "plt.bar(x = rated_df['title'], height = rated_df['ratings_count'])\n",
    "plt.show()"
   ]
  },
  {
   "cell_type": "code",
   "execution_count": 8,
   "metadata": {},
   "outputs": [
    {
     "data": {
      "image/png": "[encoded data removed]",
      "text/plain": [
       "<Figure size 432x288 with 1 Axes>"
      ]
     },
     "metadata": {
      "needs_background": "light"
     },
     "output_type": "display_data"
    }
   ],
   "source": [
    "rated_df  = df.sort_values(by = 'ratings_count', ascending = False).head()\n",
    "plt.barh(y = rated_df['title'], width = rated_df['ratings_count'])\n",
    "plt.show()"
   ]
  },
  {
   "cell_type": "code",
   "execution_count": 12,
   "metadata": {},
   "outputs": [
    {
     "data": {
      "text/html": [
       "<div>\n",
       "<style scoped>\n",
       "    .dataframe tbody tr th:only-of-type {\n",
       "        vertical-align: middle;\n",
       "    }\n",
       "\n",
       "    .dataframe tbody tr th {\n",
       "        vertical-align: top;\n",
       "    }\n",
       "\n",
       "    .dataframe thead th {\n",
       "        text-align: right;\n",
       "    }\n",
       "</style>\n",
       "<table border=\"1\" class=\"dataframe\">\n",
       "  <thead>\n",
       "    <tr style=\"text-align: right;\">\n",
       "      <th></th>\n",
       "      <th>bookID</th>\n",
       "      <th>title</th>\n",
       "      <th>authors</th>\n",
       "      <th>average_rating</th>\n",
       "      <th>isbn</th>\n",
       "      <th>isbn13</th>\n",
       "      <th>language_code</th>\n",
       "      <th>num_pages</th>\n",
       "      <th>ratings_count</th>\n",
       "      <th>text_reviews_count</th>\n",
       "      <th>publication_date</th>\n",
       "      <th>publisher</th>\n",
       "    </tr>\n",
       "  </thead>\n",
       "  <tbody>\n",
       "    <tr>\n",
       "      <th>6587</th>\n",
       "      <td>24812</td>\n",
       "      <td>The Complete Calvin and Hobbes</td>\n",
       "      <td>Bill Watterson</td>\n",
       "      <td>4.82</td>\n",
       "      <td>0740748475</td>\n",
       "      <td>9780740748479</td>\n",
       "      <td>eng</td>\n",
       "      <td>1456</td>\n",
       "      <td>32213</td>\n",
       "      <td>930</td>\n",
       "      <td>9/6/2005</td>\n",
       "      <td>Andrews McMeel Publishing</td>\n",
       "    </tr>\n",
       "    <tr>\n",
       "      <th>4</th>\n",
       "      <td>8</td>\n",
       "      <td>Harry Potter Boxed Set  Books 1-5 (Harry Potte...</td>\n",
       "      <td>J.K. Rowling/Mary GrandPré</td>\n",
       "      <td>4.78</td>\n",
       "      <td>0439682584</td>\n",
       "      <td>9780439682589</td>\n",
       "      <td>eng</td>\n",
       "      <td>2690</td>\n",
       "      <td>41428</td>\n",
       "      <td>164</td>\n",
       "      <td>9/13/2004</td>\n",
       "      <td>Scholastic</td>\n",
       "    </tr>\n",
       "    <tr>\n",
       "      <th>6589</th>\n",
       "      <td>24814</td>\n",
       "      <td>It's a Magical World (Calvin and Hobbes  #11)</td>\n",
       "      <td>Bill Watterson</td>\n",
       "      <td>4.76</td>\n",
       "      <td>0836221362</td>\n",
       "      <td>9780836221367</td>\n",
       "      <td>eng</td>\n",
       "      <td>176</td>\n",
       "      <td>23875</td>\n",
       "      <td>303</td>\n",
       "      <td>9/1/1996</td>\n",
       "      <td>Andrews McMeel Publishing</td>\n",
       "    </tr>\n",
       "    <tr>\n",
       "      <th>6</th>\n",
       "      <td>10</td>\n",
       "      <td>Harry Potter Collection (Harry Potter  #1-6)</td>\n",
       "      <td>J.K. Rowling</td>\n",
       "      <td>4.73</td>\n",
       "      <td>0439827604</td>\n",
       "      <td>9780439827607</td>\n",
       "      <td>eng</td>\n",
       "      <td>3342</td>\n",
       "      <td>28242</td>\n",
       "      <td>808</td>\n",
       "      <td>9/12/2005</td>\n",
       "      <td>Scholastic</td>\n",
       "    </tr>\n",
       "    <tr>\n",
       "      <th>6591</th>\n",
       "      <td>24818</td>\n",
       "      <td>The Days Are Just Packed</td>\n",
       "      <td>Bill Watterson</td>\n",
       "      <td>4.69</td>\n",
       "      <td>0836217357</td>\n",
       "      <td>9780836217353</td>\n",
       "      <td>eng</td>\n",
       "      <td>176</td>\n",
       "      <td>20308</td>\n",
       "      <td>244</td>\n",
       "      <td>9/1/1993</td>\n",
       "      <td>Andrews McMeel Publishing</td>\n",
       "    </tr>\n",
       "  </tbody>\n",
       "</table>\n",
       "</div>"
      ],
      "text/plain": [
       "      bookID                                              title  \\\n",
       "6587   24812                     The Complete Calvin and Hobbes   \n",
       "4          8  Harry Potter Boxed Set  Books 1-5 (Harry Potte...   \n",
       "6589   24814      It's a Magical World (Calvin and Hobbes  #11)   \n",
       "6         10       Harry Potter Collection (Harry Potter  #1-6)   \n",
       "6591   24818                           The Days Are Just Packed   \n",
       "\n",
       "                         authors  average_rating        isbn         isbn13  \\\n",
       "6587              Bill Watterson            4.82  0740748475  9780740748479   \n",
       "4     J.K. Rowling/Mary GrandPré            4.78  0439682584  9780439682589   \n",
       "6589              Bill Watterson            4.76  0836221362  9780836221367   \n",
       "6                   J.K. Rowling            4.73  0439827604  9780439827607   \n",
       "6591              Bill Watterson            4.69  0836217357  9780836217353   \n",
       "\n",
       "     language_code  num_pages  ratings_count  text_reviews_count  \\\n",
       "6587           eng       1456          32213                 930   \n",
       "4              eng       2690          41428                 164   \n",
       "6589           eng        176          23875                 303   \n",
       "6              eng       3342          28242                 808   \n",
       "6591           eng        176          20308                 244   \n",
       "\n",
       "     publication_date                  publisher  \n",
       "6587         9/6/2005  Andrews McMeel Publishing  \n",
       "4           9/13/2004                 Scholastic  \n",
       "6589         9/1/1996  Andrews McMeel Publishing  \n",
       "6           9/12/2005                 Scholastic  \n",
       "6591         9/1/1993  Andrews McMeel Publishing  "
      ]
     },
     "execution_count": 12,
     "metadata": {},
     "output_type": "execute_result"
    }
   ],
   "source": [
    "av_df = df[df['ratings_count']>df['ratings_count'].mean()]\n",
    "\n",
    "av_df  = av_df.sort_values(by = 'average_rating', ascending = False).head()\n",
    "av_df"
   ]
  },
  {
   "cell_type": "code",
   "execution_count": 13,
   "metadata": {},
   "outputs": [
    {
     "data": {
      "image/png": "[encoded data removed]",
      "text/plain": [
       "<Figure size 432x288 with 1 Axes>"
      ]
     },
     "metadata": {
      "needs_background": "light"
     },
     "output_type": "display_data"
    }
   ],
   "source": [
    "plt.barh(y = av_df['title'], width = av_df['average_rating'])\n",
    "plt.show()"
   ]
  },
  {
   "cell_type": "code",
   "execution_count": null,
   "metadata": {},
   "outputs": [],
   "source": []
  }
 ],
 "metadata": {
  "kernelspec": {
   "display_name": "Python 3",
   "language": "python",
   "name": "python3"
  },
  "language_info": {
   "codemirror_mode": {
    "name": "ipython",
    "version": 3
   },
   "file_extension": ".py",
   "mimetype": "text/x-python",
   "name": "python",
   "nbconvert_exporter": "python",
   "pygments_lexer": "ipython3",
   "version": "3.7.7"
  }
 },
 "nbformat": 4,
 "nbformat_minor": 4
}
